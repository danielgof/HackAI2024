{
  "nbformat": 4,
  "nbformat_minor": 0,
  "metadata": {
    "colab": {
      "provenance": []
    },
    "kernelspec": {
      "name": "python3",
      "display_name": "Python 3"
    },
    "language_info": {
      "name": "python"
    }
  },
  "cells": [
    {
      "cell_type": "markdown",
      "source": [
        "Лабораторная №4"
      ],
      "metadata": {
        "id": "Q1m1T1TTEX6i"
      }
    },
    {
      "cell_type": "code",
      "execution_count": null,
      "metadata": {
        "id": "jv4biyU6EUUj"
      },
      "outputs": [],
      "source": [
        "\"\"\"1,2\"\"\"\n",
        "import pandas as pd\n",
        "import numpy as np\n",
        "data = pd.read_csv('2016-FCC-New-Coders-Survey-Data.csv', usecols=['EmploymentField',\n",
        "'EmploymentStatus', 'Gender', 'JobPref', 'JobWherePref', 'MaritalStatus', 'Income'], dtype={'EmploymentField':str,\n",
        "'EmploymentStatus':str, 'Gender':str, 'JobPref':str, 'JobWherePref':str, 'MaritalStatus':str, 'Income':float})\n",
        "data\n"
      ]
    },
    {
      "cell_type": "code",
      "source": [
        "\"\"\"3\"\"\"\n",
        "data = data.dropna(subset=['Gender'], how='any')\n",
        "data = data[(data['Gender'] == 'male') | (data['Gender'] == 'female')]\n",
        "data"
      ],
      "metadata": {
        "id": "ZzIQG0Ojb9yW"
      },
      "execution_count": null,
      "outputs": []
    },
    {
      "cell_type": "code",
      "source": [
        "\"\"\"4\"\"\"\n",
        "from scipy.stats.contingency import expected_freq\n",
        "import scipy.stats"
      ],
      "metadata": {
        "id": "g113aPFcJ7fW"
      },
      "execution_count": null,
      "outputs": []
    },
    {
      "cell_type": "code",
      "source": [
        "# 1)\n",
        "#таблица сопряженности\n",
        "res = pd.crosstab(data[\"Gender\"], data[\"JobPref\"], margins = False)\n",
        "res"
      ],
      "metadata": {
        "colab": {
          "base_uri": "https://localhost:8080/",
          "height": 143
        },
        "id": "R4D7SLieLLpa",
        "outputId": "1e70f4c8-89a1-45e8-9d61-ea3452c441d1"
      },
      "execution_count": null,
      "outputs": [
        {
          "output_type": "execute_result",
          "data": {
            "text/plain": [
              "JobWherePref  from home  in an office with other developers  no preference\n",
              "Gender                                                                    \n",
              "female              329                                 826            320\n",
              "male                736                                2479           1161"
            ],
            "text/html": [
              "\n",
              "  <div id=\"df-a3241824-9bb8-45ac-a23a-c2edb269dd81\">\n",
              "    <div class=\"colab-df-container\">\n",
              "      <div>\n",
              "<style scoped>\n",
              "    .dataframe tbody tr th:only-of-type {\n",
              "        vertical-align: middle;\n",
              "    }\n",
              "\n",
              "    .dataframe tbody tr th {\n",
              "        vertical-align: top;\n",
              "    }\n",
              "\n",
              "    .dataframe thead th {\n",
              "        text-align: right;\n",
              "    }\n",
              "</style>\n",
              "<table border=\"1\" class=\"dataframe\">\n",
              "  <thead>\n",
              "    <tr style=\"text-align: right;\">\n",
              "      <th>JobWherePref</th>\n",
              "      <th>from home</th>\n",
              "      <th>in an office with other developers</th>\n",
              "      <th>no preference</th>\n",
              "    </tr>\n",
              "    <tr>\n",
              "      <th>Gender</th>\n",
              "      <th></th>\n",
              "      <th></th>\n",
              "      <th></th>\n",
              "    </tr>\n",
              "  </thead>\n",
              "  <tbody>\n",
              "    <tr>\n",
              "      <th>female</th>\n",
              "      <td>329</td>\n",
              "      <td>826</td>\n",
              "      <td>320</td>\n",
              "    </tr>\n",
              "    <tr>\n",
              "      <th>male</th>\n",
              "      <td>736</td>\n",
              "      <td>2479</td>\n",
              "      <td>1161</td>\n",
              "    </tr>\n",
              "  </tbody>\n",
              "</table>\n",
              "</div>\n",
              "      <button class=\"colab-df-convert\" onclick=\"convertToInteractive('df-a3241824-9bb8-45ac-a23a-c2edb269dd81')\"\n",
              "              title=\"Convert this dataframe to an interactive table.\"\n",
              "              style=\"display:none;\">\n",
              "        \n",
              "  <svg xmlns=\"http://www.w3.org/2000/svg\" height=\"24px\"viewBox=\"0 0 24 24\"\n",
              "       width=\"24px\">\n",
              "    <path d=\"M0 0h24v24H0V0z\" fill=\"none\"/>\n",
              "    <path d=\"M18.56 5.44l.94 2.06.94-2.06 2.06-.94-2.06-.94-.94-2.06-.94 2.06-2.06.94zm-11 1L8.5 8.5l.94-2.06 2.06-.94-2.06-.94L8.5 2.5l-.94 2.06-2.06.94zm10 10l.94 2.06.94-2.06 2.06-.94-2.06-.94-.94-2.06-.94 2.06-2.06.94z\"/><path d=\"M17.41 7.96l-1.37-1.37c-.4-.4-.92-.59-1.43-.59-.52 0-1.04.2-1.43.59L10.3 9.45l-7.72 7.72c-.78.78-.78 2.05 0 2.83L4 21.41c.39.39.9.59 1.41.59.51 0 1.02-.2 1.41-.59l7.78-7.78 2.81-2.81c.8-.78.8-2.07 0-2.86zM5.41 20L4 18.59l7.72-7.72 1.47 1.35L5.41 20z\"/>\n",
              "  </svg>\n",
              "      </button>\n",
              "      \n",
              "  <style>\n",
              "    .colab-df-container {\n",
              "      display:flex;\n",
              "      flex-wrap:wrap;\n",
              "      gap: 12px;\n",
              "    }\n",
              "\n",
              "    .colab-df-convert {\n",
              "      background-color: #E8F0FE;\n",
              "      border: none;\n",
              "      border-radius: 50%;\n",
              "      cursor: pointer;\n",
              "      display: none;\n",
              "      fill: #1967D2;\n",
              "      height: 32px;\n",
              "      padding: 0 0 0 0;\n",
              "      width: 32px;\n",
              "    }\n",
              "\n",
              "    .colab-df-convert:hover {\n",
              "      background-color: #E2EBFA;\n",
              "      box-shadow: 0px 1px 2px rgba(60, 64, 67, 0.3), 0px 1px 3px 1px rgba(60, 64, 67, 0.15);\n",
              "      fill: #174EA6;\n",
              "    }\n",
              "\n",
              "    [theme=dark] .colab-df-convert {\n",
              "      background-color: #3B4455;\n",
              "      fill: #D2E3FC;\n",
              "    }\n",
              "\n",
              "    [theme=dark] .colab-df-convert:hover {\n",
              "      background-color: #434B5C;\n",
              "      box-shadow: 0px 1px 3px 1px rgba(0, 0, 0, 0.15);\n",
              "      filter: drop-shadow(0px 1px 2px rgba(0, 0, 0, 0.3));\n",
              "      fill: #FFFFFF;\n",
              "    }\n",
              "  </style>\n",
              "\n",
              "      <script>\n",
              "        const buttonEl =\n",
              "          document.querySelector('#df-a3241824-9bb8-45ac-a23a-c2edb269dd81 button.colab-df-convert');\n",
              "        buttonEl.style.display =\n",
              "          google.colab.kernel.accessAllowed ? 'block' : 'none';\n",
              "\n",
              "        async function convertToInteractive(key) {\n",
              "          const element = document.querySelector('#df-a3241824-9bb8-45ac-a23a-c2edb269dd81');\n",
              "          const dataTable =\n",
              "            await google.colab.kernel.invokeFunction('convertToInteractive',\n",
              "                                                     [key], {});\n",
              "          if (!dataTable) return;\n",
              "\n",
              "          const docLinkHtml = 'Like what you see? Visit the ' +\n",
              "            '<a target=\"_blank\" href=https://colab.research.google.com/notebooks/data_table.ipynb>data table notebook</a>'\n",
              "            + ' to learn more about interactive tables.';\n",
              "          element.innerHTML = '';\n",
              "          dataTable['output_type'] = 'display_data';\n",
              "          await google.colab.output.renderOutput(dataTable, element);\n",
              "          const docLink = document.createElement('div');\n",
              "          docLink.innerHTML = docLinkHtml;\n",
              "          element.appendChild(docLink);\n",
              "        }\n",
              "      </script>\n",
              "    </div>\n",
              "  </div>\n",
              "  "
            ]
          },
          "metadata": {},
          "execution_count": 10
        }
      ]
    },
    {
      "cell_type": "code",
      "source": [
        "#таблица ожидаемых значений\n",
        "res = pd.crosstab(data[\"Gender\"], data[\"JobPref\"], margins = False)\n",
        "expected = scipy.stats.contingency.expected_freq(res)\n",
        "expected"
      ],
      "metadata": {
        "colab": {
          "base_uri": "https://localhost:8080/"
        },
        "id": "27Hu0M0LK55w",
        "outputId": "514b70fa-f2da-496b-d2ae-79a97e23fc88"
      },
      "execution_count": null,
      "outputs": [
        {
          "output_type": "execute_result",
          "data": {
            "text/plain": [
              "array([[ 475.43252595,  460.28394057,  669.80052921,  275.70425402,\n",
              "         408.77875025],\n",
              "       [1564.56747405, 1514.71605943, 2204.19947079,  907.29574598,\n",
              "        1345.22124975]])"
            ]
          },
          "metadata": {},
          "execution_count": 8
        }
      ]
    },
    {
      "cell_type": "code",
      "source": [
        "#критерий Пирсона\n",
        "scipy.stats.chi2_contingency(res)"
      ],
      "metadata": {
        "colab": {
          "base_uri": "https://localhost:8080/"
        },
        "id": "8rXWMv_1Ll3z",
        "outputId": "cfd79138-7023-432d-ae64-6e6f378b01d8"
      },
      "execution_count": null,
      "outputs": [
        {
          "output_type": "execute_result",
          "data": {
            "text/plain": [
              "(158.5814228127144,\n",
              " 2.9454175892568116e-33,\n",
              " 4,\n",
              " array([[ 475.43252595,  460.28394057,  669.80052921,  275.70425402,\n",
              "          408.77875025],\n",
              "        [1564.56747405, 1514.71605943, 2204.19947079,  907.29574598,\n",
              "         1345.22124975]]))"
            ]
          },
          "metadata": {},
          "execution_count": 9
        }
      ]
    },
    {
      "cell_type": "markdown",
      "source": [
        "p-value=2,94, число степеней свободы=1, принимаем H0, так как p-value<0,05 -> связи между полом и предпочтениями в работе нет."
      ],
      "metadata": {
        "id": "n6X6qv51MyTf"
      }
    },
    {
      "cell_type": "code",
      "source": [
        "# 2)\n",
        "#таблица сопряженности\n",
        "res = pd.crosstab(data[\"Gender\"], data[\"JobWherePref\"], margins = False)\n",
        "res"
      ],
      "metadata": {
        "colab": {
          "base_uri": "https://localhost:8080/",
          "height": 143
        },
        "id": "fljA4fUdNc0O",
        "outputId": "11b9d87b-1953-4752-83e6-f7ae0229227d"
      },
      "execution_count": null,
      "outputs": [
        {
          "output_type": "execute_result",
          "data": {
            "text/plain": [
              "JobWherePref  from home  in an office with other developers  no preference\n",
              "Gender                                                                    \n",
              "female              329                                 826            320\n",
              "male                736                                2479           1161"
            ],
            "text/html": [
              "\n",
              "  <div id=\"df-068acef1-5675-44a0-8d64-87c3981a5ae6\">\n",
              "    <div class=\"colab-df-container\">\n",
              "      <div>\n",
              "<style scoped>\n",
              "    .dataframe tbody tr th:only-of-type {\n",
              "        vertical-align: middle;\n",
              "    }\n",
              "\n",
              "    .dataframe tbody tr th {\n",
              "        vertical-align: top;\n",
              "    }\n",
              "\n",
              "    .dataframe thead th {\n",
              "        text-align: right;\n",
              "    }\n",
              "</style>\n",
              "<table border=\"1\" class=\"dataframe\">\n",
              "  <thead>\n",
              "    <tr style=\"text-align: right;\">\n",
              "      <th>JobWherePref</th>\n",
              "      <th>from home</th>\n",
              "      <th>in an office with other developers</th>\n",
              "      <th>no preference</th>\n",
              "    </tr>\n",
              "    <tr>\n",
              "      <th>Gender</th>\n",
              "      <th></th>\n",
              "      <th></th>\n",
              "      <th></th>\n",
              "    </tr>\n",
              "  </thead>\n",
              "  <tbody>\n",
              "    <tr>\n",
              "      <th>female</th>\n",
              "      <td>329</td>\n",
              "      <td>826</td>\n",
              "      <td>320</td>\n",
              "    </tr>\n",
              "    <tr>\n",
              "      <th>male</th>\n",
              "      <td>736</td>\n",
              "      <td>2479</td>\n",
              "      <td>1161</td>\n",
              "    </tr>\n",
              "  </tbody>\n",
              "</table>\n",
              "</div>\n",
              "      <button class=\"colab-df-convert\" onclick=\"convertToInteractive('df-068acef1-5675-44a0-8d64-87c3981a5ae6')\"\n",
              "              title=\"Convert this dataframe to an interactive table.\"\n",
              "              style=\"display:none;\">\n",
              "        \n",
              "  <svg xmlns=\"http://www.w3.org/2000/svg\" height=\"24px\"viewBox=\"0 0 24 24\"\n",
              "       width=\"24px\">\n",
              "    <path d=\"M0 0h24v24H0V0z\" fill=\"none\"/>\n",
              "    <path d=\"M18.56 5.44l.94 2.06.94-2.06 2.06-.94-2.06-.94-.94-2.06-.94 2.06-2.06.94zm-11 1L8.5 8.5l.94-2.06 2.06-.94-2.06-.94L8.5 2.5l-.94 2.06-2.06.94zm10 10l.94 2.06.94-2.06 2.06-.94-2.06-.94-.94-2.06-.94 2.06-2.06.94z\"/><path d=\"M17.41 7.96l-1.37-1.37c-.4-.4-.92-.59-1.43-.59-.52 0-1.04.2-1.43.59L10.3 9.45l-7.72 7.72c-.78.78-.78 2.05 0 2.83L4 21.41c.39.39.9.59 1.41.59.51 0 1.02-.2 1.41-.59l7.78-7.78 2.81-2.81c.8-.78.8-2.07 0-2.86zM5.41 20L4 18.59l7.72-7.72 1.47 1.35L5.41 20z\"/>\n",
              "  </svg>\n",
              "      </button>\n",
              "      \n",
              "  <style>\n",
              "    .colab-df-container {\n",
              "      display:flex;\n",
              "      flex-wrap:wrap;\n",
              "      gap: 12px;\n",
              "    }\n",
              "\n",
              "    .colab-df-convert {\n",
              "      background-color: #E8F0FE;\n",
              "      border: none;\n",
              "      border-radius: 50%;\n",
              "      cursor: pointer;\n",
              "      display: none;\n",
              "      fill: #1967D2;\n",
              "      height: 32px;\n",
              "      padding: 0 0 0 0;\n",
              "      width: 32px;\n",
              "    }\n",
              "\n",
              "    .colab-df-convert:hover {\n",
              "      background-color: #E2EBFA;\n",
              "      box-shadow: 0px 1px 2px rgba(60, 64, 67, 0.3), 0px 1px 3px 1px rgba(60, 64, 67, 0.15);\n",
              "      fill: #174EA6;\n",
              "    }\n",
              "\n",
              "    [theme=dark] .colab-df-convert {\n",
              "      background-color: #3B4455;\n",
              "      fill: #D2E3FC;\n",
              "    }\n",
              "\n",
              "    [theme=dark] .colab-df-convert:hover {\n",
              "      background-color: #434B5C;\n",
              "      box-shadow: 0px 1px 3px 1px rgba(0, 0, 0, 0.15);\n",
              "      filter: drop-shadow(0px 1px 2px rgba(0, 0, 0, 0.3));\n",
              "      fill: #FFFFFF;\n",
              "    }\n",
              "  </style>\n",
              "\n",
              "      <script>\n",
              "        const buttonEl =\n",
              "          document.querySelector('#df-068acef1-5675-44a0-8d64-87c3981a5ae6 button.colab-df-convert');\n",
              "        buttonEl.style.display =\n",
              "          google.colab.kernel.accessAllowed ? 'block' : 'none';\n",
              "\n",
              "        async function convertToInteractive(key) {\n",
              "          const element = document.querySelector('#df-068acef1-5675-44a0-8d64-87c3981a5ae6');\n",
              "          const dataTable =\n",
              "            await google.colab.kernel.invokeFunction('convertToInteractive',\n",
              "                                                     [key], {});\n",
              "          if (!dataTable) return;\n",
              "\n",
              "          const docLinkHtml = 'Like what you see? Visit the ' +\n",
              "            '<a target=\"_blank\" href=https://colab.research.google.com/notebooks/data_table.ipynb>data table notebook</a>'\n",
              "            + ' to learn more about interactive tables.';\n",
              "          element.innerHTML = '';\n",
              "          dataTable['output_type'] = 'display_data';\n",
              "          await google.colab.output.renderOutput(dataTable, element);\n",
              "          const docLink = document.createElement('div');\n",
              "          docLink.innerHTML = docLinkHtml;\n",
              "          element.appendChild(docLink);\n",
              "        }\n",
              "      </script>\n",
              "    </div>\n",
              "  </div>\n",
              "  "
            ]
          },
          "metadata": {},
          "execution_count": 11
        }
      ]
    },
    {
      "cell_type": "code",
      "source": [
        "#таблица ожидаемых значений\n",
        "res = pd.crosstab(data[\"Gender\"], data[\"JobWherePref\"], margins = False)\n",
        "expected = scipy.stats.contingency.expected_freq(res)\n",
        "expected"
      ],
      "metadata": {
        "colab": {
          "base_uri": "https://localhost:8080/"
        },
        "id": "kN6pLmPVNz7g",
        "outputId": "a529513b-1f10-4452-e49a-206aa0bd23a3"
      },
      "execution_count": null,
      "outputs": [
        {
          "output_type": "execute_result",
          "data": {
            "text/plain": [
              "array([[ 268.47974705,  833.16954367,  373.35070928],\n",
              "       [ 796.52025295, 2471.83045633, 1107.64929072]])"
            ]
          },
          "metadata": {},
          "execution_count": 12
        }
      ]
    },
    {
      "cell_type": "code",
      "source": [
        "#критерий Пирсона\n",
        "scipy.stats.chi2_contingency(res)"
      ],
      "metadata": {
        "colab": {
          "base_uri": "https://localhost:8080/"
        },
        "id": "nPGq0U5hN9xE",
        "outputId": "572af583-3796-4ab5-d064-7df8d4c014d4"
      },
      "execution_count": null,
      "outputs": [
        {
          "output_type": "execute_result",
          "data": {
            "text/plain": [
              "(28.51657428485632,\n",
              " 6.422506798401339e-07,\n",
              " 2,\n",
              " array([[ 268.47974705,  833.16954367,  373.35070928],\n",
              "        [ 796.52025295, 2471.83045633, 1107.64929072]]))"
            ]
          },
          "metadata": {},
          "execution_count": 13
        }
      ]
    },
    {
      "cell_type": "markdown",
      "source": [
        "p-value=6,4, число степеней свободы=2, принимаем H0, так как p-value<0,05 -> связи между полом и предпочтениями места работы нет."
      ],
      "metadata": {
        "id": "2483RYXpSRhQ"
      }
    },
    {
      "cell_type": "code",
      "source": [
        "# 3)\n",
        "#таблица сопряженности\n",
        "res = pd.crosstab(data[\"JobWherePref\"], data[\"MaritalStatus\"], margins = False)\n",
        "res"
      ],
      "metadata": {
        "colab": {
          "base_uri": "https://localhost:8080/",
          "height": 175
        },
        "id": "9it-kEHCSZ6K",
        "outputId": "b0259e51-b41f-4922-cce3-36510aa906d6"
      },
      "execution_count": null,
      "outputs": [
        {
          "output_type": "execute_result",
          "data": {
            "text/plain": [
              "MaritalStatus                       divorced  married or domestic partnership  \\\n",
              "JobWherePref                                                                    \n",
              "from home                                 23                              267   \n",
              "in an office with other developers        25                              527   \n",
              "no preference                             22                              269   \n",
              "\n",
              "MaritalStatus                       separated  single, never married  widowed  \n",
              "JobWherePref                                                                   \n",
              "from home                                   4                     47        1  \n",
              "in an office with other developers          5                    143        1  \n",
              "no preference                               8                     75        2  "
            ],
            "text/html": [
              "\n",
              "  <div id=\"df-e3cb6a65-fd93-4cd0-a9bf-edef7c1465ee\">\n",
              "    <div class=\"colab-df-container\">\n",
              "      <div>\n",
              "<style scoped>\n",
              "    .dataframe tbody tr th:only-of-type {\n",
              "        vertical-align: middle;\n",
              "    }\n",
              "\n",
              "    .dataframe tbody tr th {\n",
              "        vertical-align: top;\n",
              "    }\n",
              "\n",
              "    .dataframe thead th {\n",
              "        text-align: right;\n",
              "    }\n",
              "</style>\n",
              "<table border=\"1\" class=\"dataframe\">\n",
              "  <thead>\n",
              "    <tr style=\"text-align: right;\">\n",
              "      <th>MaritalStatus</th>\n",
              "      <th>divorced</th>\n",
              "      <th>married or domestic partnership</th>\n",
              "      <th>separated</th>\n",
              "      <th>single, never married</th>\n",
              "      <th>widowed</th>\n",
              "    </tr>\n",
              "    <tr>\n",
              "      <th>JobWherePref</th>\n",
              "      <th></th>\n",
              "      <th></th>\n",
              "      <th></th>\n",
              "      <th></th>\n",
              "      <th></th>\n",
              "    </tr>\n",
              "  </thead>\n",
              "  <tbody>\n",
              "    <tr>\n",
              "      <th>from home</th>\n",
              "      <td>23</td>\n",
              "      <td>267</td>\n",
              "      <td>4</td>\n",
              "      <td>47</td>\n",
              "      <td>1</td>\n",
              "    </tr>\n",
              "    <tr>\n",
              "      <th>in an office with other developers</th>\n",
              "      <td>25</td>\n",
              "      <td>527</td>\n",
              "      <td>5</td>\n",
              "      <td>143</td>\n",
              "      <td>1</td>\n",
              "    </tr>\n",
              "    <tr>\n",
              "      <th>no preference</th>\n",
              "      <td>22</td>\n",
              "      <td>269</td>\n",
              "      <td>8</td>\n",
              "      <td>75</td>\n",
              "      <td>2</td>\n",
              "    </tr>\n",
              "  </tbody>\n",
              "</table>\n",
              "</div>\n",
              "      <button class=\"colab-df-convert\" onclick=\"convertToInteractive('df-e3cb6a65-fd93-4cd0-a9bf-edef7c1465ee')\"\n",
              "              title=\"Convert this dataframe to an interactive table.\"\n",
              "              style=\"display:none;\">\n",
              "        \n",
              "  <svg xmlns=\"http://www.w3.org/2000/svg\" height=\"24px\"viewBox=\"0 0 24 24\"\n",
              "       width=\"24px\">\n",
              "    <path d=\"M0 0h24v24H0V0z\" fill=\"none\"/>\n",
              "    <path d=\"M18.56 5.44l.94 2.06.94-2.06 2.06-.94-2.06-.94-.94-2.06-.94 2.06-2.06.94zm-11 1L8.5 8.5l.94-2.06 2.06-.94-2.06-.94L8.5 2.5l-.94 2.06-2.06.94zm10 10l.94 2.06.94-2.06 2.06-.94-2.06-.94-.94-2.06-.94 2.06-2.06.94z\"/><path d=\"M17.41 7.96l-1.37-1.37c-.4-.4-.92-.59-1.43-.59-.52 0-1.04.2-1.43.59L10.3 9.45l-7.72 7.72c-.78.78-.78 2.05 0 2.83L4 21.41c.39.39.9.59 1.41.59.51 0 1.02-.2 1.41-.59l7.78-7.78 2.81-2.81c.8-.78.8-2.07 0-2.86zM5.41 20L4 18.59l7.72-7.72 1.47 1.35L5.41 20z\"/>\n",
              "  </svg>\n",
              "      </button>\n",
              "      \n",
              "  <style>\n",
              "    .colab-df-container {\n",
              "      display:flex;\n",
              "      flex-wrap:wrap;\n",
              "      gap: 12px;\n",
              "    }\n",
              "\n",
              "    .colab-df-convert {\n",
              "      background-color: #E8F0FE;\n",
              "      border: none;\n",
              "      border-radius: 50%;\n",
              "      cursor: pointer;\n",
              "      display: none;\n",
              "      fill: #1967D2;\n",
              "      height: 32px;\n",
              "      padding: 0 0 0 0;\n",
              "      width: 32px;\n",
              "    }\n",
              "\n",
              "    .colab-df-convert:hover {\n",
              "      background-color: #E2EBFA;\n",
              "      box-shadow: 0px 1px 2px rgba(60, 64, 67, 0.3), 0px 1px 3px 1px rgba(60, 64, 67, 0.15);\n",
              "      fill: #174EA6;\n",
              "    }\n",
              "\n",
              "    [theme=dark] .colab-df-convert {\n",
              "      background-color: #3B4455;\n",
              "      fill: #D2E3FC;\n",
              "    }\n",
              "\n",
              "    [theme=dark] .colab-df-convert:hover {\n",
              "      background-color: #434B5C;\n",
              "      box-shadow: 0px 1px 3px 1px rgba(0, 0, 0, 0.15);\n",
              "      filter: drop-shadow(0px 1px 2px rgba(0, 0, 0, 0.3));\n",
              "      fill: #FFFFFF;\n",
              "    }\n",
              "  </style>\n",
              "\n",
              "      <script>\n",
              "        const buttonEl =\n",
              "          document.querySelector('#df-e3cb6a65-fd93-4cd0-a9bf-edef7c1465ee button.colab-df-convert');\n",
              "        buttonEl.style.display =\n",
              "          google.colab.kernel.accessAllowed ? 'block' : 'none';\n",
              "\n",
              "        async function convertToInteractive(key) {\n",
              "          const element = document.querySelector('#df-e3cb6a65-fd93-4cd0-a9bf-edef7c1465ee');\n",
              "          const dataTable =\n",
              "            await google.colab.kernel.invokeFunction('convertToInteractive',\n",
              "                                                     [key], {});\n",
              "          if (!dataTable) return;\n",
              "\n",
              "          const docLinkHtml = 'Like what you see? Visit the ' +\n",
              "            '<a target=\"_blank\" href=https://colab.research.google.com/notebooks/data_table.ipynb>data table notebook</a>'\n",
              "            + ' to learn more about interactive tables.';\n",
              "          element.innerHTML = '';\n",
              "          dataTable['output_type'] = 'display_data';\n",
              "          await google.colab.output.renderOutput(dataTable, element);\n",
              "          const docLink = document.createElement('div');\n",
              "          docLink.innerHTML = docLinkHtml;\n",
              "          element.appendChild(docLink);\n",
              "        }\n",
              "      </script>\n",
              "    </div>\n",
              "  </div>\n",
              "  "
            ]
          },
          "metadata": {},
          "execution_count": 18
        }
      ]
    },
    {
      "cell_type": "code",
      "source": [
        "#таблица ожидаемых значений\n",
        "res = pd.crosstab(data[\"JobWherePref\"], data[\"MaritalStatus\"], margins = False)\n",
        "expected = scipy.stats.contingency.expected_freq(res)\n",
        "expected"
      ],
      "metadata": {
        "colab": {
          "base_uri": "https://localhost:8080/"
        },
        "id": "p7Qvj4l2Suuo",
        "outputId": "323a188b-08ca-46ea-c4e0-963b5317032f"
      },
      "execution_count": null,
      "outputs": [
        {
          "output_type": "execute_result",
          "data": {
            "text/plain": [
              "array([[ 16.87103594, 256.1987315 ,   4.09725159,  63.86892178,\n",
              "          0.9640592 ],\n",
              "       [ 34.58069063, 525.13248767,   8.39816772, 130.91261452,\n",
              "          1.97603946],\n",
              "       [ 18.54827343, 281.66878083,   4.50458069,  70.21846371,\n",
              "          1.05990134]])"
            ]
          },
          "metadata": {},
          "execution_count": 19
        }
      ]
    },
    {
      "cell_type": "code",
      "source": [
        "!apt-get install r-base\n",
        "!pip install rpy2"
      ],
      "metadata": {
        "id": "ouvvSDWdWtX3"
      },
      "execution_count": null,
      "outputs": []
    },
    {
      "cell_type": "code",
      "source": [
        "#тест Фримана-Холтона (ождиемые значения менее 5 в более чем 20% ячеек)\n",
        "import rpy2.robjects.numpy2ri\n",
        "from rpy2.robjects.packages import importr\n",
        "rpy2.robjects.numpy2ri.activate()\n",
        "stats=importr(\"stats\")\n",
        "m=np.array(res.values)\n",
        "r=stats.fisher_test(m)"
      ],
      "metadata": {
        "id": "95YlmA2UUCy6"
      },
      "execution_count": null,
      "outputs": []
    },
    {
      "cell_type": "code",
      "source": [
        "# 4)\n",
        "#таблица сопряженности\n",
        "res = pd.crosstab(data[\"EmploymentField\"], data[\"JobWherePref\"], margins = False)\n",
        "res"
      ],
      "metadata": {
        "colab": {
          "base_uri": "https://localhost:8080/",
          "height": 551
        },
        "id": "kMGdsHXsSbiD",
        "outputId": "0b96d914-345c-4f2f-d411-54e6611dc57f"
      },
      "execution_count": null,
      "outputs": [
        {
          "output_type": "execute_result",
          "data": {
            "text/plain": [
              "JobWherePref                           from home  \\\n",
              "EmploymentField                                    \n",
              "architecture or physical engineering          15   \n",
              "arts, entertainment, sports, or media         41   \n",
              "construction and extraction                    8   \n",
              "education                                     80   \n",
              "farming, fishing, and forestry                 2   \n",
              "finance                                       21   \n",
              "food and beverage                             27   \n",
              "health care                                   23   \n",
              "law enforcement and fire and rescue            1   \n",
              "legal                                          9   \n",
              "office and administrative support             45   \n",
              "sales                                         33   \n",
              "software development                           2   \n",
              "software development and IT                  174   \n",
              "transportation                                12   \n",
              "\n",
              "JobWherePref                           in an office with other developers  \\\n",
              "EmploymentField                                                             \n",
              "architecture or physical engineering                                   49   \n",
              "arts, entertainment, sports, or media                                 100   \n",
              "construction and extraction                                            31   \n",
              "education                                                             175   \n",
              "farming, fishing, and forestry                                          7   \n",
              "finance                                                                77   \n",
              "food and beverage                                                      91   \n",
              "health care                                                            64   \n",
              "law enforcement and fire and rescue                                     7   \n",
              "legal                                                                  15   \n",
              "office and administrative support                                     133   \n",
              "sales                                                                 107   \n",
              "software development                                                   16   \n",
              "software development and IT                                           475   \n",
              "transportation                                                         35   \n",
              "\n",
              "JobWherePref                           no preference  \n",
              "EmploymentField                                       \n",
              "architecture or physical engineering              15  \n",
              "arts, entertainment, sports, or media             43  \n",
              "construction and extraction                       17  \n",
              "education                                         54  \n",
              "farming, fishing, and forestry                     2  \n",
              "finance                                           25  \n",
              "food and beverage                                 48  \n",
              "health care                                       34  \n",
              "law enforcement and fire and rescue                5  \n",
              "legal                                              7  \n",
              "office and administrative support                 59  \n",
              "sales                                             43  \n",
              "software development                               0  \n",
              "software development and IT                      215  \n",
              "transportation                                    25  "
            ],
            "text/html": [
              "\n",
              "  <div id=\"df-4411f81d-e88e-4fa2-a4e9-03c03e1fa9d4\">\n",
              "    <div class=\"colab-df-container\">\n",
              "      <div>\n",
              "<style scoped>\n",
              "    .dataframe tbody tr th:only-of-type {\n",
              "        vertical-align: middle;\n",
              "    }\n",
              "\n",
              "    .dataframe tbody tr th {\n",
              "        vertical-align: top;\n",
              "    }\n",
              "\n",
              "    .dataframe thead th {\n",
              "        text-align: right;\n",
              "    }\n",
              "</style>\n",
              "<table border=\"1\" class=\"dataframe\">\n",
              "  <thead>\n",
              "    <tr style=\"text-align: right;\">\n",
              "      <th>JobWherePref</th>\n",
              "      <th>from home</th>\n",
              "      <th>in an office with other developers</th>\n",
              "      <th>no preference</th>\n",
              "    </tr>\n",
              "    <tr>\n",
              "      <th>EmploymentField</th>\n",
              "      <th></th>\n",
              "      <th></th>\n",
              "      <th></th>\n",
              "    </tr>\n",
              "  </thead>\n",
              "  <tbody>\n",
              "    <tr>\n",
              "      <th>architecture or physical engineering</th>\n",
              "      <td>15</td>\n",
              "      <td>49</td>\n",
              "      <td>15</td>\n",
              "    </tr>\n",
              "    <tr>\n",
              "      <th>arts, entertainment, sports, or media</th>\n",
              "      <td>41</td>\n",
              "      <td>100</td>\n",
              "      <td>43</td>\n",
              "    </tr>\n",
              "    <tr>\n",
              "      <th>construction and extraction</th>\n",
              "      <td>8</td>\n",
              "      <td>31</td>\n",
              "      <td>17</td>\n",
              "    </tr>\n",
              "    <tr>\n",
              "      <th>education</th>\n",
              "      <td>80</td>\n",
              "      <td>175</td>\n",
              "      <td>54</td>\n",
              "    </tr>\n",
              "    <tr>\n",
              "      <th>farming, fishing, and forestry</th>\n",
              "      <td>2</td>\n",
              "      <td>7</td>\n",
              "      <td>2</td>\n",
              "    </tr>\n",
              "    <tr>\n",
              "      <th>finance</th>\n",
              "      <td>21</td>\n",
              "      <td>77</td>\n",
              "      <td>25</td>\n",
              "    </tr>\n",
              "    <tr>\n",
              "      <th>food and beverage</th>\n",
              "      <td>27</td>\n",
              "      <td>91</td>\n",
              "      <td>48</td>\n",
              "    </tr>\n",
              "    <tr>\n",
              "      <th>health care</th>\n",
              "      <td>23</td>\n",
              "      <td>64</td>\n",
              "      <td>34</td>\n",
              "    </tr>\n",
              "    <tr>\n",
              "      <th>law enforcement and fire and rescue</th>\n",
              "      <td>1</td>\n",
              "      <td>7</td>\n",
              "      <td>5</td>\n",
              "    </tr>\n",
              "    <tr>\n",
              "      <th>legal</th>\n",
              "      <td>9</td>\n",
              "      <td>15</td>\n",
              "      <td>7</td>\n",
              "    </tr>\n",
              "    <tr>\n",
              "      <th>office and administrative support</th>\n",
              "      <td>45</td>\n",
              "      <td>133</td>\n",
              "      <td>59</td>\n",
              "    </tr>\n",
              "    <tr>\n",
              "      <th>sales</th>\n",
              "      <td>33</td>\n",
              "      <td>107</td>\n",
              "      <td>43</td>\n",
              "    </tr>\n",
              "    <tr>\n",
              "      <th>software development</th>\n",
              "      <td>2</td>\n",
              "      <td>16</td>\n",
              "      <td>0</td>\n",
              "    </tr>\n",
              "    <tr>\n",
              "      <th>software development and IT</th>\n",
              "      <td>174</td>\n",
              "      <td>475</td>\n",
              "      <td>215</td>\n",
              "    </tr>\n",
              "    <tr>\n",
              "      <th>transportation</th>\n",
              "      <td>12</td>\n",
              "      <td>35</td>\n",
              "      <td>25</td>\n",
              "    </tr>\n",
              "  </tbody>\n",
              "</table>\n",
              "</div>\n",
              "      <button class=\"colab-df-convert\" onclick=\"convertToInteractive('df-4411f81d-e88e-4fa2-a4e9-03c03e1fa9d4')\"\n",
              "              title=\"Convert this dataframe to an interactive table.\"\n",
              "              style=\"display:none;\">\n",
              "        \n",
              "  <svg xmlns=\"http://www.w3.org/2000/svg\" height=\"24px\"viewBox=\"0 0 24 24\"\n",
              "       width=\"24px\">\n",
              "    <path d=\"M0 0h24v24H0V0z\" fill=\"none\"/>\n",
              "    <path d=\"M18.56 5.44l.94 2.06.94-2.06 2.06-.94-2.06-.94-.94-2.06-.94 2.06-2.06.94zm-11 1L8.5 8.5l.94-2.06 2.06-.94-2.06-.94L8.5 2.5l-.94 2.06-2.06.94zm10 10l.94 2.06.94-2.06 2.06-.94-2.06-.94-.94-2.06-.94 2.06-2.06.94z\"/><path d=\"M17.41 7.96l-1.37-1.37c-.4-.4-.92-.59-1.43-.59-.52 0-1.04.2-1.43.59L10.3 9.45l-7.72 7.72c-.78.78-.78 2.05 0 2.83L4 21.41c.39.39.9.59 1.41.59.51 0 1.02-.2 1.41-.59l7.78-7.78 2.81-2.81c.8-.78.8-2.07 0-2.86zM5.41 20L4 18.59l7.72-7.72 1.47 1.35L5.41 20z\"/>\n",
              "  </svg>\n",
              "      </button>\n",
              "      \n",
              "  <style>\n",
              "    .colab-df-container {\n",
              "      display:flex;\n",
              "      flex-wrap:wrap;\n",
              "      gap: 12px;\n",
              "    }\n",
              "\n",
              "    .colab-df-convert {\n",
              "      background-color: #E8F0FE;\n",
              "      border: none;\n",
              "      border-radius: 50%;\n",
              "      cursor: pointer;\n",
              "      display: none;\n",
              "      fill: #1967D2;\n",
              "      height: 32px;\n",
              "      padding: 0 0 0 0;\n",
              "      width: 32px;\n",
              "    }\n",
              "\n",
              "    .colab-df-convert:hover {\n",
              "      background-color: #E2EBFA;\n",
              "      box-shadow: 0px 1px 2px rgba(60, 64, 67, 0.3), 0px 1px 3px 1px rgba(60, 64, 67, 0.15);\n",
              "      fill: #174EA6;\n",
              "    }\n",
              "\n",
              "    [theme=dark] .colab-df-convert {\n",
              "      background-color: #3B4455;\n",
              "      fill: #D2E3FC;\n",
              "    }\n",
              "\n",
              "    [theme=dark] .colab-df-convert:hover {\n",
              "      background-color: #434B5C;\n",
              "      box-shadow: 0px 1px 3px 1px rgba(0, 0, 0, 0.15);\n",
              "      filter: drop-shadow(0px 1px 2px rgba(0, 0, 0, 0.3));\n",
              "      fill: #FFFFFF;\n",
              "    }\n",
              "  </style>\n",
              "\n",
              "      <script>\n",
              "        const buttonEl =\n",
              "          document.querySelector('#df-4411f81d-e88e-4fa2-a4e9-03c03e1fa9d4 button.colab-df-convert');\n",
              "        buttonEl.style.display =\n",
              "          google.colab.kernel.accessAllowed ? 'block' : 'none';\n",
              "\n",
              "        async function convertToInteractive(key) {\n",
              "          const element = document.querySelector('#df-4411f81d-e88e-4fa2-a4e9-03c03e1fa9d4');\n",
              "          const dataTable =\n",
              "            await google.colab.kernel.invokeFunction('convertToInteractive',\n",
              "                                                     [key], {});\n",
              "          if (!dataTable) return;\n",
              "\n",
              "          const docLinkHtml = 'Like what you see? Visit the ' +\n",
              "            '<a target=\"_blank\" href=https://colab.research.google.com/notebooks/data_table.ipynb>data table notebook</a>'\n",
              "            + ' to learn more about interactive tables.';\n",
              "          element.innerHTML = '';\n",
              "          dataTable['output_type'] = 'display_data';\n",
              "          await google.colab.output.renderOutput(dataTable, element);\n",
              "          const docLink = document.createElement('div');\n",
              "          docLink.innerHTML = docLinkHtml;\n",
              "          element.appendChild(docLink);\n",
              "        }\n",
              "      </script>\n",
              "    </div>\n",
              "  </div>\n",
              "  "
            ]
          },
          "metadata": {},
          "execution_count": 14
        }
      ]
    },
    {
      "cell_type": "code",
      "source": [
        "#таблица ожидаемых значений\n",
        "res = pd.crosstab(data[\"EmploymentField\"], data[\"JobWherePref\"], margins = False)\n",
        "expected = scipy.stats.contingency.expected_freq(res)\n",
        "expected"
      ],
      "metadata": {
        "colab": {
          "base_uri": "https://localhost:8080/"
        },
        "id": "JDyKTKgASvBF",
        "outputId": "9703667f-3e8a-4837-f75d-6b1d53d05e22"
      },
      "execution_count": null,
      "outputs": [
        {
          "output_type": "execute_result",
          "data": {
            "text/plain": [
              "array([[ 15.78719092,  44.2553709 ,  18.95743818],\n",
              "       [ 36.77016619, 103.07580057,  44.15403324],\n",
              "       [ 11.19092015,  31.37089582,  13.43818403],\n",
              "       [ 61.74989866, 173.10012161,  74.14997973],\n",
              "       [  2.19821646,   6.16214025,   2.63964329],\n",
              "       [ 24.58005675,  68.9039319 ,  29.51601135],\n",
              "       [ 33.17308472,  92.99229834,  39.83461694],\n",
              "       [ 24.18038103,  67.78354276,  29.03607621],\n",
              "       [  2.59789218,   7.28252939,   3.11957844],\n",
              "       [  6.19497365,  17.36603162,   7.43899473],\n",
              "       [ 47.36157276, 132.76611269,  56.87231455],\n",
              "       [ 36.57032833, 102.515606  ,  43.91406567],\n",
              "       [  3.59708148,  10.08350223,   4.3194163 ],\n",
              "       [172.65991082, 484.00810701, 207.33198216],\n",
              "       [ 14.3883259 ,  40.33400892,  17.27766518]])"
            ]
          },
          "metadata": {},
          "execution_count": 15
        }
      ]
    },
    {
      "cell_type": "code",
      "source": [
        "#критерий Пирсона\n",
        "scipy.stats.chi2_contingency(res)"
      ],
      "metadata": {
        "colab": {
          "base_uri": "https://localhost:8080/"
        },
        "id": "tUfbB5fQY9WP",
        "outputId": "49f61d74-ffab-4e64-c4e6-8365ed1cc0e4"
      },
      "execution_count": null,
      "outputs": [
        {
          "output_type": "execute_result",
          "data": {
            "text/plain": [
              "(17.859055517955113,\n",
              " 0.022308349488174187,\n",
              " 8,\n",
              " array([[ 16.87103594, 256.1987315 ,   4.09725159,  63.86892178,\n",
              "           0.9640592 ],\n",
              "        [ 34.58069063, 525.13248767,   8.39816772, 130.91261452,\n",
              "           1.97603946],\n",
              "        [ 18.54827343, 281.66878083,   4.50458069,  70.21846371,\n",
              "           1.05990134]]))"
            ]
          },
          "metadata": {},
          "execution_count": 33
        }
      ]
    },
    {
      "cell_type": "markdown",
      "source": [
        "p-value=0,02, число степеней свободы=8, отвергаем H0, так как p-value<0,05 -> связь между сферой деятельности и предпочтениями места работы есть."
      ],
      "metadata": {
        "id": "ZpBchMfYZAAf"
      }
    },
    {
      "cell_type": "code",
      "source": [
        "ybvf"
      ],
      "metadata": {
        "id": "I0pQ9QODWvDU"
      },
      "execution_count": null,
      "outputs": []
    },
    {
      "cell_type": "code",
      "source": [
        "# 5)\n",
        "#таблица сопряженности\n",
        "res = pd.crosstab(data[\"EmploymentStatus\"], data[\"JobWherePref\"], margins = False)\n",
        "res"
      ],
      "metadata": {
        "colab": {
          "base_uri": "https://localhost:8080/",
          "height": 394
        },
        "id": "aKV354g0SeKd",
        "outputId": "33d2c31d-7752-4c93-b4d4-a4e1ce9fcc53"
      },
      "execution_count": null,
      "outputs": [
        {
          "output_type": "execute_result",
          "data": {
            "text/plain": [
              "JobWherePref                          from home  \\\n",
              "EmploymentStatus                                  \n",
              "A stay-at-home parent or homemaker           38   \n",
              "Doing an unpaid internship                   19   \n",
              "Employed for wages                          541   \n",
              "Military                                      3   \n",
              "Not working and not looking for work         48   \n",
              "Not working but looking for work            269   \n",
              "Retired                                       6   \n",
              "Self-employed business owner                 23   \n",
              "Self-employed freelancer                     67   \n",
              "Unable to work                               18   \n",
              "\n",
              "JobWherePref                          in an office with other developers  \\\n",
              "EmploymentStatus                                                           \n",
              "A stay-at-home parent or homemaker                                    50   \n",
              "Doing an unpaid internship                                            74   \n",
              "Employed for wages                                                  1504   \n",
              "Military                                                              13   \n",
              "Not working and not looking for work                                 268   \n",
              "Not working but looking for work                                     897   \n",
              "Retired                                                                4   \n",
              "Self-employed business owner                                          48   \n",
              "Self-employed freelancer                                             172   \n",
              "Unable to work                                                        50   \n",
              "\n",
              "JobWherePref                          no preference  \n",
              "EmploymentStatus                                     \n",
              "A stay-at-home parent or homemaker               20  \n",
              "Doing an unpaid internship                       30  \n",
              "Employed for wages                              680  \n",
              "Military                                          5  \n",
              "Not working and not looking for work            107  \n",
              "Not working but looking for work                424  \n",
              "Retired                                           6  \n",
              "Self-employed business owner                     23  \n",
              "Self-employed freelancer                         59  \n",
              "Unable to work                                   24  "
            ],
            "text/html": [
              "\n",
              "  <div id=\"df-2ee13ec5-e382-42cf-ba99-c34b4c6723ec\">\n",
              "    <div class=\"colab-df-container\">\n",
              "      <div>\n",
              "<style scoped>\n",
              "    .dataframe tbody tr th:only-of-type {\n",
              "        vertical-align: middle;\n",
              "    }\n",
              "\n",
              "    .dataframe tbody tr th {\n",
              "        vertical-align: top;\n",
              "    }\n",
              "\n",
              "    .dataframe thead th {\n",
              "        text-align: right;\n",
              "    }\n",
              "</style>\n",
              "<table border=\"1\" class=\"dataframe\">\n",
              "  <thead>\n",
              "    <tr style=\"text-align: right;\">\n",
              "      <th>JobWherePref</th>\n",
              "      <th>from home</th>\n",
              "      <th>in an office with other developers</th>\n",
              "      <th>no preference</th>\n",
              "    </tr>\n",
              "    <tr>\n",
              "      <th>EmploymentStatus</th>\n",
              "      <th></th>\n",
              "      <th></th>\n",
              "      <th></th>\n",
              "    </tr>\n",
              "  </thead>\n",
              "  <tbody>\n",
              "    <tr>\n",
              "      <th>A stay-at-home parent or homemaker</th>\n",
              "      <td>38</td>\n",
              "      <td>50</td>\n",
              "      <td>20</td>\n",
              "    </tr>\n",
              "    <tr>\n",
              "      <th>Doing an unpaid internship</th>\n",
              "      <td>19</td>\n",
              "      <td>74</td>\n",
              "      <td>30</td>\n",
              "    </tr>\n",
              "    <tr>\n",
              "      <th>Employed for wages</th>\n",
              "      <td>541</td>\n",
              "      <td>1504</td>\n",
              "      <td>680</td>\n",
              "    </tr>\n",
              "    <tr>\n",
              "      <th>Military</th>\n",
              "      <td>3</td>\n",
              "      <td>13</td>\n",
              "      <td>5</td>\n",
              "    </tr>\n",
              "    <tr>\n",
              "      <th>Not working and not looking for work</th>\n",
              "      <td>48</td>\n",
              "      <td>268</td>\n",
              "      <td>107</td>\n",
              "    </tr>\n",
              "    <tr>\n",
              "      <th>Not working but looking for work</th>\n",
              "      <td>269</td>\n",
              "      <td>897</td>\n",
              "      <td>424</td>\n",
              "    </tr>\n",
              "    <tr>\n",
              "      <th>Retired</th>\n",
              "      <td>6</td>\n",
              "      <td>4</td>\n",
              "      <td>6</td>\n",
              "    </tr>\n",
              "    <tr>\n",
              "      <th>Self-employed business owner</th>\n",
              "      <td>23</td>\n",
              "      <td>48</td>\n",
              "      <td>23</td>\n",
              "    </tr>\n",
              "    <tr>\n",
              "      <th>Self-employed freelancer</th>\n",
              "      <td>67</td>\n",
              "      <td>172</td>\n",
              "      <td>59</td>\n",
              "    </tr>\n",
              "    <tr>\n",
              "      <th>Unable to work</th>\n",
              "      <td>18</td>\n",
              "      <td>50</td>\n",
              "      <td>24</td>\n",
              "    </tr>\n",
              "  </tbody>\n",
              "</table>\n",
              "</div>\n",
              "      <button class=\"colab-df-convert\" onclick=\"convertToInteractive('df-2ee13ec5-e382-42cf-ba99-c34b4c6723ec')\"\n",
              "              title=\"Convert this dataframe to an interactive table.\"\n",
              "              style=\"display:none;\">\n",
              "        \n",
              "  <svg xmlns=\"http://www.w3.org/2000/svg\" height=\"24px\"viewBox=\"0 0 24 24\"\n",
              "       width=\"24px\">\n",
              "    <path d=\"M0 0h24v24H0V0z\" fill=\"none\"/>\n",
              "    <path d=\"M18.56 5.44l.94 2.06.94-2.06 2.06-.94-2.06-.94-.94-2.06-.94 2.06-2.06.94zm-11 1L8.5 8.5l.94-2.06 2.06-.94-2.06-.94L8.5 2.5l-.94 2.06-2.06.94zm10 10l.94 2.06.94-2.06 2.06-.94-2.06-.94-.94-2.06-.94 2.06-2.06.94z\"/><path d=\"M17.41 7.96l-1.37-1.37c-.4-.4-.92-.59-1.43-.59-.52 0-1.04.2-1.43.59L10.3 9.45l-7.72 7.72c-.78.78-.78 2.05 0 2.83L4 21.41c.39.39.9.59 1.41.59.51 0 1.02-.2 1.41-.59l7.78-7.78 2.81-2.81c.8-.78.8-2.07 0-2.86zM5.41 20L4 18.59l7.72-7.72 1.47 1.35L5.41 20z\"/>\n",
              "  </svg>\n",
              "      </button>\n",
              "      \n",
              "  <style>\n",
              "    .colab-df-container {\n",
              "      display:flex;\n",
              "      flex-wrap:wrap;\n",
              "      gap: 12px;\n",
              "    }\n",
              "\n",
              "    .colab-df-convert {\n",
              "      background-color: #E8F0FE;\n",
              "      border: none;\n",
              "      border-radius: 50%;\n",
              "      cursor: pointer;\n",
              "      display: none;\n",
              "      fill: #1967D2;\n",
              "      height: 32px;\n",
              "      padding: 0 0 0 0;\n",
              "      width: 32px;\n",
              "    }\n",
              "\n",
              "    .colab-df-convert:hover {\n",
              "      background-color: #E2EBFA;\n",
              "      box-shadow: 0px 1px 2px rgba(60, 64, 67, 0.3), 0px 1px 3px 1px rgba(60, 64, 67, 0.15);\n",
              "      fill: #174EA6;\n",
              "    }\n",
              "\n",
              "    [theme=dark] .colab-df-convert {\n",
              "      background-color: #3B4455;\n",
              "      fill: #D2E3FC;\n",
              "    }\n",
              "\n",
              "    [theme=dark] .colab-df-convert:hover {\n",
              "      background-color: #434B5C;\n",
              "      box-shadow: 0px 1px 3px 1px rgba(0, 0, 0, 0.15);\n",
              "      filter: drop-shadow(0px 1px 2px rgba(0, 0, 0, 0.3));\n",
              "      fill: #FFFFFF;\n",
              "    }\n",
              "  </style>\n",
              "\n",
              "      <script>\n",
              "        const buttonEl =\n",
              "          document.querySelector('#df-2ee13ec5-e382-42cf-ba99-c34b4c6723ec button.colab-df-convert');\n",
              "        buttonEl.style.display =\n",
              "          google.colab.kernel.accessAllowed ? 'block' : 'none';\n",
              "\n",
              "        async function convertToInteractive(key) {\n",
              "          const element = document.querySelector('#df-2ee13ec5-e382-42cf-ba99-c34b4c6723ec');\n",
              "          const dataTable =\n",
              "            await google.colab.kernel.invokeFunction('convertToInteractive',\n",
              "                                                     [key], {});\n",
              "          if (!dataTable) return;\n",
              "\n",
              "          const docLinkHtml = 'Like what you see? Visit the ' +\n",
              "            '<a target=\"_blank\" href=https://colab.research.google.com/notebooks/data_table.ipynb>data table notebook</a>'\n",
              "            + ' to learn more about interactive tables.';\n",
              "          element.innerHTML = '';\n",
              "          dataTable['output_type'] = 'display_data';\n",
              "          await google.colab.output.renderOutput(dataTable, element);\n",
              "          const docLink = document.createElement('div');\n",
              "          docLink.innerHTML = docLinkHtml;\n",
              "          element.appendChild(docLink);\n",
              "        }\n",
              "      </script>\n",
              "    </div>\n",
              "  </div>\n",
              "  "
            ]
          },
          "metadata": {},
          "execution_count": 34
        }
      ]
    },
    {
      "cell_type": "code",
      "source": [
        "#таблица ожидаемых значений\n",
        "res = pd.crosstab(data[\"EmploymentStatus\"], data[\"JobWherePref\"], margins = False)\n",
        "expected = scipy.stats.contingency.expected_freq(res)\n",
        "expected"
      ],
      "metadata": {
        "colab": {
          "base_uri": "https://localhost:8080/"
        },
        "id": "w7qwRZrdSeOK",
        "outputId": "dca61ae6-969b-4551-9a89-8527c7ef8bd3"
      },
      "execution_count": null,
      "outputs": [
        {
          "output_type": "execute_result",
          "data": {
            "text/plain": [
              "array([[  20.30163934,   60.59016393,   27.10819672],\n",
              "       [  23.12131148,   69.00546448,   30.87322404],\n",
              "       [ 512.24043716, 1528.77959927,  683.97996357],\n",
              "       [   3.94754098,   11.78142077,    5.27103825],\n",
              "       [  79.5147541 ,  237.31147541,  106.17377049],\n",
              "       [ 298.8852459 ,  892.02185792,  399.09289617],\n",
              "       [   3.00765027,    8.97632058,    4.01602914],\n",
              "       [  17.66994536,   52.73588342,   23.59417122],\n",
              "       [  56.01748634,  167.18397086,   74.79854281],\n",
              "       [  17.29398907,   51.61384335,   23.09216758]])"
            ]
          },
          "metadata": {},
          "execution_count": 35
        }
      ]
    },
    {
      "cell_type": "code",
      "source": [
        "#критерий Пирсона\n",
        "scipy.stats.chi2_contingency(res)"
      ],
      "metadata": {
        "colab": {
          "base_uri": "https://localhost:8080/"
        },
        "id": "ISGRHoGbZUin",
        "outputId": "8242ad42-677c-4452-ea78-b77eafde5e5f"
      },
      "execution_count": null,
      "outputs": [
        {
          "output_type": "execute_result",
          "data": {
            "text/plain": [
              "(58.215251009372096,\n",
              " 3.962010127372578e-06,\n",
              " 18,\n",
              " array([[  20.30163934,   60.59016393,   27.10819672],\n",
              "        [  23.12131148,   69.00546448,   30.87322404],\n",
              "        [ 512.24043716, 1528.77959927,  683.97996357],\n",
              "        [   3.94754098,   11.78142077,    5.27103825],\n",
              "        [  79.5147541 ,  237.31147541,  106.17377049],\n",
              "        [ 298.8852459 ,  892.02185792,  399.09289617],\n",
              "        [   3.00765027,    8.97632058,    4.01602914],\n",
              "        [  17.66994536,   52.73588342,   23.59417122],\n",
              "        [  56.01748634,  167.18397086,   74.79854281],\n",
              "        [  17.29398907,   51.61384335,   23.09216758]]))"
            ]
          },
          "metadata": {},
          "execution_count": 36
        }
      ]
    },
    {
      "cell_type": "markdown",
      "source": [
        "p-value=3,9, число степеней свободы=18, принимаем H0, так как p-value<0,05 -> связи между должностью и предпочтениями места работы нет."
      ],
      "metadata": {
        "id": "pWF5z41yaK8O"
      }
    },
    {
      "cell_type": "code",
      "source": [
        "\"\"\"6\"\"\"\n",
        "data['Income'].plot.hist()"
      ],
      "metadata": {
        "colab": {
          "base_uri": "https://localhost:8080/",
          "height": 282
        },
        "id": "wSHunSQIp2MM",
        "outputId": "9cb706cd-22ce-4178-d17b-29a87739b279"
      },
      "execution_count": null,
      "outputs": [
        {
          "output_type": "execute_result",
          "data": {
            "text/plain": [
              "<matplotlib.axes._subplots.AxesSubplot at 0x7fb0e8ac0cd0>"
            ]
          },
          "metadata": {},
          "execution_count": 79
        },
        {
          "output_type": "display_data",
          "data": {
            "text/plain": [
              "<Figure size 432x288 with 1 Axes>"
            ],
            "image/png": "[encoded data removed]"
          },
          "metadata": {
            "needs_background": "light"
          }
        }
      ]
    },
    {
      "cell_type": "markdown",
      "source": [
        "Основываясь на приведённом выше графике разделим доход на 3 категории: низкий(0 - 30 000), средний(30 000 - 100 000), высокий(100 000 - 200 000)"
      ],
      "metadata": {
        "id": "8Uu335Zqti5D"
      }
    },
    {
      "cell_type": "code",
      "source": [
        "income = list()\n",
        "for salary in data.Income:\n",
        "  if salary < 30000:\n",
        "    income.append(\"низкий\")\n",
        "  elif salary >= 30000 and salary <= 100000:\n",
        "    income.append(\"средний\")\n",
        "  elif salary > 100000:\n",
        "    income.append(\"высокий\")\n",
        "df = pd.DataFrame(income, columns = ['Income_Cat'])\n",
        "data[\"Income\"] = df\n",
        "data"
      ],
      "metadata": {
        "colab": {
          "base_uri": "https://localhost:8080/",
          "height": 424
        },
        "id": "Ge8v21-Dx-PG",
        "outputId": "6354ef49-eaae-423c-e5d8-3128b3a3fac8"
      },
      "execution_count": null,
      "outputs": [
        {
          "output_type": "execute_result",
          "data": {
            "text/plain": [
              "                             EmploymentField          EmploymentStatus  \\\n",
              "0          office and administrative support        Employed for wages   \n",
              "1                          food and beverage        Employed for wages   \n",
              "2                                    finance        Employed for wages   \n",
              "3      arts, entertainment, sports, or media        Employed for wages   \n",
              "4                                  education        Employed for wages   \n",
              "...                                      ...                       ...   \n",
              "15615            software development and IT  Self-employed freelancer   \n",
              "15616            software development and IT        Employed for wages   \n",
              "15617                                    NaN  Self-employed freelancer   \n",
              "15618                              education  Self-employed freelancer   \n",
              "15619  arts, entertainment, sports, or media        Employed for wages   \n",
              "\n",
              "       Gender   Income                          JobPref  \\\n",
              "0        male  средний                       freelance    \n",
              "1        male   низкий               work for a startup   \n",
              "2        male  средний          start your own business   \n",
              "3      female  средний               work for a startup   \n",
              "4      female   низкий  work for a medium-sized company   \n",
              "...       ...      ...                              ...   \n",
              "15615    male      NaN          start your own business   \n",
              "15616    male      NaN               work for a startup   \n",
              "15617    male      NaN                       freelance    \n",
              "15618    male      NaN                              NaN   \n",
              "15619  female      NaN                       freelance    \n",
              "\n",
              "                             JobWherePref                    MaritalStatus  \n",
              "0                                     NaN  married or domestic partnership  \n",
              "1      in an office with other developers                              NaN  \n",
              "2                                     NaN                              NaN  \n",
              "3                               from home                              NaN  \n",
              "4      in an office with other developers                              NaN  \n",
              "...                                   ...                              ...  \n",
              "15615                                 NaN            single, never married  \n",
              "15616  in an office with other developers            single, never married  \n",
              "15617                                 NaN                              NaN  \n",
              "15618                                 NaN                              NaN  \n",
              "15619                                 NaN            single, never married  \n",
              "\n",
              "[13606 rows x 7 columns]"
            ],
            "text/html": [
              "\n",
              "  <div id=\"df-5a6122c4-1b33-49a4-87f2-9b664c11caef\">\n",
              "    <div class=\"colab-df-container\">\n",
              "      <div>\n",
              "<style scoped>\n",
              "    .dataframe tbody tr th:only-of-type {\n",
              "        vertical-align: middle;\n",
              "    }\n",
              "\n",
              "    .dataframe tbody tr th {\n",
              "        vertical-align: top;\n",
              "    }\n",
              "\n",
              "    .dataframe thead th {\n",
              "        text-align: right;\n",
              "    }\n",
              "</style>\n",
              "<table border=\"1\" class=\"dataframe\">\n",
              "  <thead>\n",
              "    <tr style=\"text-align: right;\">\n",
              "      <th></th>\n",
              "      <th>EmploymentField</th>\n",
              "      <th>EmploymentStatus</th>\n",
              "      <th>Gender</th>\n",
              "      <th>Income</th>\n",
              "      <th>JobPref</th>\n",
              "      <th>JobWherePref</th>\n",
              "      <th>MaritalStatus</th>\n",
              "    </tr>\n",
              "  </thead>\n",
              "  <tbody>\n",
              "    <tr>\n",
              "      <th>0</th>\n",
              "      <td>office and administrative support</td>\n",
              "      <td>Employed for wages</td>\n",
              "      <td>male</td>\n",
              "      <td>средний</td>\n",
              "      <td>freelance</td>\n",
              "      <td>NaN</td>\n",
              "      <td>married or domestic partnership</td>\n",
              "    </tr>\n",
              "    <tr>\n",
              "      <th>1</th>\n",
              "      <td>food and beverage</td>\n",
              "      <td>Employed for wages</td>\n",
              "      <td>male</td>\n",
              "      <td>низкий</td>\n",
              "      <td>work for a startup</td>\n",
              "      <td>in an office with other developers</td>\n",
              "      <td>NaN</td>\n",
              "    </tr>\n",
              "    <tr>\n",
              "      <th>2</th>\n",
              "      <td>finance</td>\n",
              "      <td>Employed for wages</td>\n",
              "      <td>male</td>\n",
              "      <td>средний</td>\n",
              "      <td>start your own business</td>\n",
              "      <td>NaN</td>\n",
              "      <td>NaN</td>\n",
              "    </tr>\n",
              "    <tr>\n",
              "      <th>3</th>\n",
              "      <td>arts, entertainment, sports, or media</td>\n",
              "      <td>Employed for wages</td>\n",
              "      <td>female</td>\n",
              "      <td>средний</td>\n",
              "      <td>work for a startup</td>\n",
              "      <td>from home</td>\n",
              "      <td>NaN</td>\n",
              "    </tr>\n",
              "    <tr>\n",
              "      <th>4</th>\n",
              "      <td>education</td>\n",
              "      <td>Employed for wages</td>\n",
              "      <td>female</td>\n",
              "      <td>низкий</td>\n",
              "      <td>work for a medium-sized company</td>\n",
              "      <td>in an office with other developers</td>\n",
              "      <td>NaN</td>\n",
              "    </tr>\n",
              "    <tr>\n",
              "      <th>...</th>\n",
              "      <td>...</td>\n",
              "      <td>...</td>\n",
              "      <td>...</td>\n",
              "      <td>...</td>\n",
              "      <td>...</td>\n",
              "      <td>...</td>\n",
              "      <td>...</td>\n",
              "    </tr>\n",
              "    <tr>\n",
              "      <th>15615</th>\n",
              "      <td>software development and IT</td>\n",
              "      <td>Self-employed freelancer</td>\n",
              "      <td>male</td>\n",
              "      <td>NaN</td>\n",
              "      <td>start your own business</td>\n",
              "      <td>NaN</td>\n",
              "      <td>single, never married</td>\n",
              "    </tr>\n",
              "    <tr>\n",
              "      <th>15616</th>\n",
              "      <td>software development and IT</td>\n",
              "      <td>Employed for wages</td>\n",
              "      <td>male</td>\n",
              "      <td>NaN</td>\n",
              "      <td>work for a startup</td>\n",
              "      <td>in an office with other developers</td>\n",
              "      <td>single, never married</td>\n",
              "    </tr>\n",
              "    <tr>\n",
              "      <th>15617</th>\n",
              "      <td>NaN</td>\n",
              "      <td>Self-employed freelancer</td>\n",
              "      <td>male</td>\n",
              "      <td>NaN</td>\n",
              "      <td>freelance</td>\n",
              "      <td>NaN</td>\n",
              "      <td>NaN</td>\n",
              "    </tr>\n",
              "    <tr>\n",
              "      <th>15618</th>\n",
              "      <td>education</td>\n",
              "      <td>Self-employed freelancer</td>\n",
              "      <td>male</td>\n",
              "      <td>NaN</td>\n",
              "      <td>NaN</td>\n",
              "      <td>NaN</td>\n",
              "      <td>NaN</td>\n",
              "    </tr>\n",
              "    <tr>\n",
              "      <th>15619</th>\n",
              "      <td>arts, entertainment, sports, or media</td>\n",
              "      <td>Employed for wages</td>\n",
              "      <td>female</td>\n",
              "      <td>NaN</td>\n",
              "      <td>freelance</td>\n",
              "      <td>NaN</td>\n",
              "      <td>single, never married</td>\n",
              "    </tr>\n",
              "  </tbody>\n",
              "</table>\n",
              "<p>13606 rows × 7 columns</p>\n",
              "</div>\n",
              "      <button class=\"colab-df-convert\" onclick=\"convertToInteractive('df-5a6122c4-1b33-49a4-87f2-9b664c11caef')\"\n",
              "              title=\"Convert this dataframe to an interactive table.\"\n",
              "              style=\"display:none;\">\n",
              "        \n",
              "  <svg xmlns=\"http://www.w3.org/2000/svg\" height=\"24px\"viewBox=\"0 0 24 24\"\n",
              "       width=\"24px\">\n",
              "    <path d=\"M0 0h24v24H0V0z\" fill=\"none\"/>\n",
              "    <path d=\"M18.56 5.44l.94 2.06.94-2.06 2.06-.94-2.06-.94-.94-2.06-.94 2.06-2.06.94zm-11 1L8.5 8.5l.94-2.06 2.06-.94-2.06-.94L8.5 2.5l-.94 2.06-2.06.94zm10 10l.94 2.06.94-2.06 2.06-.94-2.06-.94-.94-2.06-.94 2.06-2.06.94z\"/><path d=\"M17.41 7.96l-1.37-1.37c-.4-.4-.92-.59-1.43-.59-.52 0-1.04.2-1.43.59L10.3 9.45l-7.72 7.72c-.78.78-.78 2.05 0 2.83L4 21.41c.39.39.9.59 1.41.59.51 0 1.02-.2 1.41-.59l7.78-7.78 2.81-2.81c.8-.78.8-2.07 0-2.86zM5.41 20L4 18.59l7.72-7.72 1.47 1.35L5.41 20z\"/>\n",
              "  </svg>\n",
              "      </button>\n",
              "      \n",
              "  <style>\n",
              "    .colab-df-container {\n",
              "      display:flex;\n",
              "      flex-wrap:wrap;\n",
              "      gap: 12px;\n",
              "    }\n",
              "\n",
              "    .colab-df-convert {\n",
              "      background-color: #E8F0FE;\n",
              "      border: none;\n",
              "      border-radius: 50%;\n",
              "      cursor: pointer;\n",
              "      display: none;\n",
              "      fill: #1967D2;\n",
              "      height: 32px;\n",
              "      padding: 0 0 0 0;\n",
              "      width: 32px;\n",
              "    }\n",
              "\n",
              "    .colab-df-convert:hover {\n",
              "      background-color: #E2EBFA;\n",
              "      box-shadow: 0px 1px 2px rgba(60, 64, 67, 0.3), 0px 1px 3px 1px rgba(60, 64, 67, 0.15);\n",
              "      fill: #174EA6;\n",
              "    }\n",
              "\n",
              "    [theme=dark] .colab-df-convert {\n",
              "      background-color: #3B4455;\n",
              "      fill: #D2E3FC;\n",
              "    }\n",
              "\n",
              "    [theme=dark] .colab-df-convert:hover {\n",
              "      background-color: #434B5C;\n",
              "      box-shadow: 0px 1px 3px 1px rgba(0, 0, 0, 0.15);\n",
              "      filter: drop-shadow(0px 1px 2px rgba(0, 0, 0, 0.3));\n",
              "      fill: #FFFFFF;\n",
              "    }\n",
              "  </style>\n",
              "\n",
              "      <script>\n",
              "        const buttonEl =\n",
              "          document.querySelector('#df-5a6122c4-1b33-49a4-87f2-9b664c11caef button.colab-df-convert');\n",
              "        buttonEl.style.display =\n",
              "          google.colab.kernel.accessAllowed ? 'block' : 'none';\n",
              "\n",
              "        async function convertToInteractive(key) {\n",
              "          const element = document.querySelector('#df-5a6122c4-1b33-49a4-87f2-9b664c11caef');\n",
              "          const dataTable =\n",
              "            await google.colab.kernel.invokeFunction('convertToInteractive',\n",
              "                                                     [key], {});\n",
              "          if (!dataTable) return;\n",
              "\n",
              "          const docLinkHtml = 'Like what you see? Visit the ' +\n",
              "            '<a target=\"_blank\" href=https://colab.research.google.com/notebooks/data_table.ipynb>data table notebook</a>'\n",
              "            + ' to learn more about interactive tables.';\n",
              "          element.innerHTML = '';\n",
              "          dataTable['output_type'] = 'display_data';\n",
              "          await google.colab.output.renderOutput(dataTable, element);\n",
              "          const docLink = document.createElement('div');\n",
              "          docLink.innerHTML = docLinkHtml;\n",
              "          element.appendChild(docLink);\n",
              "        }\n",
              "      </script>\n",
              "    </div>\n",
              "  </div>\n",
              "  "
            ]
          },
          "metadata": {},
          "execution_count": 80
        }
      ]
    },
    {
      "cell_type": "code",
      "source": [
        "\"\"\"7\"\"\"\n",
        "res = pd.crosstab(data[\"Income\"], data[\"Gender\"], margins = False)\n",
        "res"
      ],
      "metadata": {
        "colab": {
          "base_uri": "https://localhost:8080/",
          "height": 175
        },
        "id": "c3kUbZ_up1-1",
        "outputId": "bb001765-ce3f-4fb5-f34f-a0ba25fa85a1"
      },
      "execution_count": null,
      "outputs": [
        {
          "output_type": "execute_result",
          "data": {
            "text/plain": [
              "Gender   female  male\n",
              "Income               \n",
              "высокий      82   350\n",
              "низкий      606  2009\n",
              "средний     880  3144"
            ],
            "text/html": [
              "\n",
              "  <div id=\"df-7f5e0178-1560-4d46-bd0d-abfd4416f1e6\">\n",
              "    <div class=\"colab-df-container\">\n",
              "      <div>\n",
              "<style scoped>\n",
              "    .dataframe tbody tr th:only-of-type {\n",
              "        vertical-align: middle;\n",
              "    }\n",
              "\n",
              "    .dataframe tbody tr th {\n",
              "        vertical-align: top;\n",
              "    }\n",
              "\n",
              "    .dataframe thead th {\n",
              "        text-align: right;\n",
              "    }\n",
              "</style>\n",
              "<table border=\"1\" class=\"dataframe\">\n",
              "  <thead>\n",
              "    <tr style=\"text-align: right;\">\n",
              "      <th>Gender</th>\n",
              "      <th>female</th>\n",
              "      <th>male</th>\n",
              "    </tr>\n",
              "    <tr>\n",
              "      <th>Income</th>\n",
              "      <th></th>\n",
              "      <th></th>\n",
              "    </tr>\n",
              "  </thead>\n",
              "  <tbody>\n",
              "    <tr>\n",
              "      <th>высокий</th>\n",
              "      <td>82</td>\n",
              "      <td>350</td>\n",
              "    </tr>\n",
              "    <tr>\n",
              "      <th>низкий</th>\n",
              "      <td>606</td>\n",
              "      <td>2009</td>\n",
              "    </tr>\n",
              "    <tr>\n",
              "      <th>средний</th>\n",
              "      <td>880</td>\n",
              "      <td>3144</td>\n",
              "    </tr>\n",
              "  </tbody>\n",
              "</table>\n",
              "</div>\n",
              "      <button class=\"colab-df-convert\" onclick=\"convertToInteractive('df-7f5e0178-1560-4d46-bd0d-abfd4416f1e6')\"\n",
              "              title=\"Convert this dataframe to an interactive table.\"\n",
              "              style=\"display:none;\">\n",
              "        \n",
              "  <svg xmlns=\"http://www.w3.org/2000/svg\" height=\"24px\"viewBox=\"0 0 24 24\"\n",
              "       width=\"24px\">\n",
              "    <path d=\"M0 0h24v24H0V0z\" fill=\"none\"/>\n",
              "    <path d=\"M18.56 5.44l.94 2.06.94-2.06 2.06-.94-2.06-.94-.94-2.06-.94 2.06-2.06.94zm-11 1L8.5 8.5l.94-2.06 2.06-.94-2.06-.94L8.5 2.5l-.94 2.06-2.06.94zm10 10l.94 2.06.94-2.06 2.06-.94-2.06-.94-.94-2.06-.94 2.06-2.06.94z\"/><path d=\"M17.41 7.96l-1.37-1.37c-.4-.4-.92-.59-1.43-.59-.52 0-1.04.2-1.43.59L10.3 9.45l-7.72 7.72c-.78.78-.78 2.05 0 2.83L4 21.41c.39.39.9.59 1.41.59.51 0 1.02-.2 1.41-.59l7.78-7.78 2.81-2.81c.8-.78.8-2.07 0-2.86zM5.41 20L4 18.59l7.72-7.72 1.47 1.35L5.41 20z\"/>\n",
              "  </svg>\n",
              "      </button>\n",
              "      \n",
              "  <style>\n",
              "    .colab-df-container {\n",
              "      display:flex;\n",
              "      flex-wrap:wrap;\n",
              "      gap: 12px;\n",
              "    }\n",
              "\n",
              "    .colab-df-convert {\n",
              "      background-color: #E8F0FE;\n",
              "      border: none;\n",
              "      border-radius: 50%;\n",
              "      cursor: pointer;\n",
              "      display: none;\n",
              "      fill: #1967D2;\n",
              "      height: 32px;\n",
              "      padding: 0 0 0 0;\n",
              "      width: 32px;\n",
              "    }\n",
              "\n",
              "    .colab-df-convert:hover {\n",
              "      background-color: #E2EBFA;\n",
              "      box-shadow: 0px 1px 2px rgba(60, 64, 67, 0.3), 0px 1px 3px 1px rgba(60, 64, 67, 0.15);\n",
              "      fill: #174EA6;\n",
              "    }\n",
              "\n",
              "    [theme=dark] .colab-df-convert {\n",
              "      background-color: #3B4455;\n",
              "      fill: #D2E3FC;\n",
              "    }\n",
              "\n",
              "    [theme=dark] .colab-df-convert:hover {\n",
              "      background-color: #434B5C;\n",
              "      box-shadow: 0px 1px 3px 1px rgba(0, 0, 0, 0.15);\n",
              "      filter: drop-shadow(0px 1px 2px rgba(0, 0, 0, 0.3));\n",
              "      fill: #FFFFFF;\n",
              "    }\n",
              "  </style>\n",
              "\n",
              "      <script>\n",
              "        const buttonEl =\n",
              "          document.querySelector('#df-7f5e0178-1560-4d46-bd0d-abfd4416f1e6 button.colab-df-convert');\n",
              "        buttonEl.style.display =\n",
              "          google.colab.kernel.accessAllowed ? 'block' : 'none';\n",
              "\n",
              "        async function convertToInteractive(key) {\n",
              "          const element = document.querySelector('#df-7f5e0178-1560-4d46-bd0d-abfd4416f1e6');\n",
              "          const dataTable =\n",
              "            await google.colab.kernel.invokeFunction('convertToInteractive',\n",
              "                                                     [key], {});\n",
              "          if (!dataTable) return;\n",
              "\n",
              "          const docLinkHtml = 'Like what you see? Visit the ' +\n",
              "            '<a target=\"_blank\" href=https://colab.research.google.com/notebooks/data_table.ipynb>data table notebook</a>'\n",
              "            + ' to learn more about interactive tables.';\n",
              "          element.innerHTML = '';\n",
              "          dataTable['output_type'] = 'display_data';\n",
              "          await google.colab.output.renderOutput(dataTable, element);\n",
              "          const docLink = document.createElement('div');\n",
              "          docLink.innerHTML = docLinkHtml;\n",
              "          element.appendChild(docLink);\n",
              "        }\n",
              "      </script>\n",
              "    </div>\n",
              "  </div>\n",
              "  "
            ]
          },
          "metadata": {},
          "execution_count": 83
        }
      ]
    },
    {
      "cell_type": "code",
      "source": [
        "res = pd.crosstab(data[\"Income\"], data[\"Gender\"], margins = False)\n",
        "expected = scipy.stats.contingency.expected_freq(res)\n",
        "expected\n"
      ],
      "metadata": {
        "colab": {
          "base_uri": "https://localhost:8080/"
        },
        "id": "3YyxnbMaEQNh",
        "outputId": "e0123f98-4acc-41fb-bc94-3d94b70e51fb"
      },
      "execution_count": null,
      "outputs": [
        {
          "output_type": "execute_result",
          "data": {
            "text/plain": [
              "array([[  95.79635129,  336.20364871],\n",
              "       [ 579.87837647, 2035.12162353],\n",
              "       [ 892.32527224, 3131.67472776]])"
            ]
          },
          "metadata": {},
          "execution_count": 84
        }
      ]
    },
    {
      "cell_type": "code",
      "source": [
        "res = pd.crosstab(data[\"Income\"], data[\"Gender\"], margins = False)\n",
        "scipy.stats.chi2_contingency(res)"
      ],
      "metadata": {
        "colab": {
          "base_uri": "https://localhost:8080/"
        },
        "id": "KCVsefuCEuJg",
        "outputId": "957c97cb-97e6-48bd-e4b3-55281a1d0993"
      },
      "execution_count": null,
      "outputs": [
        {
          "output_type": "execute_result",
          "data": {
            "text/plain": [
              "(4.283785989027224,\n",
              " 0.11743233372032803,\n",
              " 2,\n",
              " array([[  95.79635129,  336.20364871],\n",
              "        [ 579.87837647, 2035.12162353],\n",
              "        [ 892.32527224, 3131.67472776]]))"
            ]
          },
          "metadata": {},
          "execution_count": 85
        }
      ]
    },
    {
      "cell_type": "markdown",
      "source": [
        "p-value принимает значение 0.11743233372032803 Число степеней свободы 1 Для 5 уровня\n",
        "значимости p value велико. Это означает, что нулевая гипотеза (о том, что выборки\n",
        "одного параметра при разных значениях другого статистически неотличимы) верна\n",
        "Значит нельзя говорить о связи между данными переменными"
      ],
      "metadata": {
        "id": "tN_p-_sME9TE"
      }
    }
  ]
}
